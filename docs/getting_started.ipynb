{
 "cells": [
  {
   "attachments": {},
   "cell_type": "markdown",
   "id": "e045bd79-a3d2-413d-8134-5996cc1693fa",
   "metadata": {},
   "source": [
    "This is just a sample notebook to showcase the rendering of Jupyter notebooks in the documentation."
   ]
  },
  {
   "cell_type": "code",
   "execution_count": 1,
   "id": "64444934",
   "metadata": {},
   "outputs": [
    {
     "name": "stdout",
     "output_type": "stream",
     "text": [
      "Pasqal template Python project\n"
     ]
    }
   ],
   "source": [
    "from template_python.main import main\n",
    "\n",
    "msg = main()\n",
    "print(msg)"
   ]
  }
 ],
 "metadata": {
  "kernelspec": {
   "display_name": "template-python",
   "language": "python",
   "name": "python3"
  },
  "language_info": {
   "codemirror_mode": {
    "name": "ipython",
    "version": 3
   },
   "file_extension": ".py",
   "mimetype": "text/x-python",
   "name": "python",
   "nbconvert_exporter": "python",
   "pygments_lexer": "ipython3",
   "version": "3.10.5"
  },
  "vscode": {
   "interpreter": {
    "hash": "63c419f0f4b66aaf91cf9b3e9f7d6e13ca12a8ca3cf887e111a8c9f8c2d8af98"
   }
  }
 },
 "nbformat": 4,
 "nbformat_minor": 5
}
